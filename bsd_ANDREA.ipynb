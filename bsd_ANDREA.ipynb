{
 "cells": [
  {
   "cell_type": "code",
   "execution_count": 1,
   "id": "c1d01e5f-ee2e-485f-8da2-e4cb5776a877",
   "metadata": {},
   "outputs": [
    {
     "name": "stderr",
     "output_type": "stream",
     "text": [
      "/home/firp/.local/lib/python3.10/site-packages/tqdm/auto.py:21: TqdmWarning: IProgress not found. Please update jupyter and ipywidgets. See https://ipywidgets.readthedocs.io/en/stable/user_install.html\n",
      "  from .autonotebook import tqdm as notebook_tqdm\n",
      "/home/firp/.local/lib/python3.10/site-packages/timm/models/layers/__init__.py:48: FutureWarning: Importing from timm.models.layers is deprecated, please import via timm.layers\n",
      "  warnings.warn(f\"Importing from {__name__} is deprecated, please import via timm.layers\", FutureWarning)\n"
     ]
    }
   ],
   "source": [
    "%load_ext autoreload\n",
    "%autoreload 2\n",
    "\n",
    "import numpy as np\n",
    "    \n",
    "import torch\n",
    "import torch.nn as nn\n",
    "import torch.nn.functional as F\n",
    "from torch.utils.data import DataLoader\n",
    "\n",
    "from tqdm import tqdm\n",
    "\n",
    "import random, time\n",
    "\n",
    "from torch.utils.tensorboard import SummaryWriter\n",
    "\n",
    "from datasets import synthetic as load_datasets\n",
    "from datasets import real as load_real_datasets\n",
    "from datasets import real_only as load_only_real_datasets\n",
    "from utils import plotter, visualizer\n",
    "\n",
    "import metrics\n",
    "from models import PVT, UNet\n",
    "\n",
    "import trainer as states\n",
    "from trainer import Trainer"
   ]
  },
  {
   "cell_type": "code",
   "execution_count": 2,
   "id": "c9d8f286-1614-4ba0-b3f5-1311fa433585",
   "metadata": {},
   "outputs": [],
   "source": [
    "writer = SummaryWriter()"
   ]
  },
  {
   "cell_type": "code",
   "execution_count": 3,
   "id": "9ed957e6-e45e-4a40-94fe-06dc379dc75f",
   "metadata": {},
   "outputs": [],
   "source": [
    "#seed"
   ]
  },
  {
   "cell_type": "markdown",
   "id": "0c5257a9-4f3c-4403-abb4-f0bfd047b639",
   "metadata": {},
   "source": [
    "## Dataset"
   ]
  },
  {
   "cell_type": "code",
   "execution_count": 4,
   "id": "045548d0-c96d-40e3-be6e-d707f02ec7b0",
   "metadata": {},
   "outputs": [],
   "source": [
    "train_datapath = \"Datasets/Training_set\"\n",
    "val_datapath = \"Datasets/Validation_set\"\n",
    "test_datapath = \"Datasets/Test_set\""
   ]
  },
  {
   "cell_type": "code",
   "execution_count": 5,
   "id": "b8ad2bbf-c6cc-4950-86f1-1b29b3105fb6",
   "metadata": {},
   "outputs": [],
   "source": [
    "train_data = load_datasets.SonarDescriptorDatasetFull(train_datapath, None)\n",
    "val_data = load_datasets.SonarDescriptorDatasetFull(val_datapath, train_data)\n",
    "test_data = load_datasets.SonarDescriptorDatasetFull(test_datapath, train_data)"
   ]
  },
  {
   "cell_type": "code",
   "execution_count": 6,
   "id": "f97402fd-5f76-4653-9276-dc60aa4a81ae",
   "metadata": {},
   "outputs": [
    {
     "name": "stdout",
     "output_type": "stream",
     "text": [
      "Training: 4000\n",
      "Validation: 4000\n",
      "Test: 4000\n"
     ]
    }
   ],
   "source": [
    "print(\"Training: \" + str(len(train_data.imgs)))\n",
    "print(\"Validation: \" + str(len(val_data.imgs)))\n",
    "print(\"Test: \" + str(len(test_data.imgs)))"
   ]
  },
  {
   "cell_type": "code",
   "execution_count": null,
   "id": "8496e103-3664-4a91-99ef-4b5212d6e418",
   "metadata": {
    "scrolled": true
   },
   "outputs": [],
   "source": [
    "real_data = load_real_datasets.SonarDescriptorRealDataset(None, None)"
   ]
  },
  {
   "cell_type": "code",
   "execution_count": null,
   "id": "66abf419-d5aa-46c5-80eb-19ca0349d0b6",
   "metadata": {},
   "outputs": [],
   "source": [
    "print(\"Real: \" + str(len(real_data.imgs)))"
   ]
  },
  {
   "cell_type": "code",
   "execution_count": null,
   "id": "78f29855-c4fa-4fbc-925d-83200bce831b",
   "metadata": {},
   "outputs": [],
   "source": [
    "plotter.plot_train_data(train_data)"
   ]
  },
  {
   "cell_type": "code",
   "execution_count": null,
   "id": "d61a5656-01af-4dea-8c9c-a6b5e07daa52",
   "metadata": {},
   "outputs": [],
   "source": [
    "plotter.plot_data(val_data)"
   ]
  },
  {
   "cell_type": "code",
   "execution_count": null,
   "id": "e6eebdef-7377-48e8-849e-514ce424a868",
   "metadata": {},
   "outputs": [],
   "source": [
    "plotter.plot_data(test_data)"
   ]
  },
  {
   "cell_type": "code",
   "execution_count": null,
   "id": "153b1ed2-a1b2-44c5-b374-43bc772176f2",
   "metadata": {},
   "outputs": [],
   "source": [
    "plotter.plot_data(real_data)"
   ]
  },
  {
   "cell_type": "code",
   "execution_count": null,
   "id": "83d05197-eb20-482b-881b-9e50e384bf4b",
   "metadata": {},
   "outputs": [],
   "source": [
    "q_pose = real_data.poses[700]\n",
    "\n",
    "q_x, q_y, q_Y_deg = q_pose\n",
    "q_pose = np.array([q_x, q_y, (90+q_Y_deg)%360])\n",
    "\n",
    "gt_pose_idx = train_data.gtquery(q_x, q_y, q_Y_deg)"
   ]
  },
  {
   "cell_type": "code",
   "execution_count": null,
   "id": "6ced2064-2ed5-438f-86cf-6b7f3929312a",
   "metadata": {},
   "outputs": [],
   "source": [
    "plotter.plot_synth_poses_train(train_data, \"blue\")\n",
    "plotter.plot_synth_poses_val(val_data, \"red\")\n",
    "\n",
    "print(\"Validation before filtering: \" + str(len(val_data.imgs)))"
   ]
  },
  {
   "cell_type": "code",
   "execution_count": null,
   "id": "6dc027d2-b6ac-4c56-98f3-80e9dd00c14f",
   "metadata": {},
   "outputs": [],
   "source": [
    "visualizer.filter_data(train_data, val_data)\n",
    "\n",
    "plotter.plot_synth_poses_train(train_data, \"blue\")\n",
    "plotter.plot_synth_poses_val(val_data, \"red\")\n",
    "\n",
    "print(\"Validation after filtering: \" + str(len(val_data.imgs)))"
   ]
  },
  {
   "cell_type": "code",
   "execution_count": null,
   "id": "c58191ea-0e45-4e96-bf79-ccc68a0174e4",
   "metadata": {},
   "outputs": [],
   "source": [
    "plotter.plot_synth_poses_train(train_data, \"blue\")\n",
    "plotter.plot_synth_poses_val(test_data, \"red\")\n",
    "\n",
    "print(\"Test before filtering: \" + str(len(test_data.imgs)))"
   ]
  },
  {
   "cell_type": "code",
   "execution_count": null,
   "id": "d7caf9e3-b3ee-4ef6-b99d-2370fa3941be",
   "metadata": {
    "scrolled": true
   },
   "outputs": [],
   "source": [
    "visualizer.filter_data(train_data, test_data)\n",
    "\n",
    "plotter.plot_synth_poses_train(train_data, \"blue\")\n",
    "plotter.plot_synth_poses_val(test_data, \"red\")\n",
    "\n",
    "print(\"Test after filtering: \" + str(len(test_data.imgs)))"
   ]
  },
  {
   "cell_type": "code",
   "execution_count": null,
   "id": "1e46dcda-d25c-47e2-aa13-11ed6bdb8e58",
   "metadata": {},
   "outputs": [],
   "source": [
    "visualizer.localization(train_data, val_data, real_data)"
   ]
  },
  {
   "cell_type": "code",
   "execution_count": null,
   "id": "b68a09af-e4bf-4e00-89b1-13822b016268",
   "metadata": {},
   "outputs": [],
   "source": [
    "print(\"Datasets before ground truth check\")\n",
    "print(\"Training: \" + str(len(train_data.imgs)))\n",
    "print(\"Validation: \" + str(len(val_data.imgs)))\n",
    "print(\"Test: \" + str(len(test_data.imgs)))"
   ]
  },
  {
   "cell_type": "code",
   "execution_count": null,
   "id": "83762ca5-9dfd-4c9e-a45e-32dcc243dc0a",
   "metadata": {},
   "outputs": [],
   "source": [
    "val_data = visualizer.check_gt(train_data, val_data)"
   ]
  },
  {
   "cell_type": "code",
   "execution_count": null,
   "id": "03a05ba1-93a9-4b7e-a562-8d791b2bb824",
   "metadata": {},
   "outputs": [],
   "source": [
    "test_data = visualizer.check_gt(train_data, test_data)"
   ]
  },
  {
   "cell_type": "code",
   "execution_count": null,
   "id": "87db3864-611b-418d-9179-7baa83cd5bbc",
   "metadata": {},
   "outputs": [],
   "source": [
    "print(\"Datasets after ground truth check\")\n",
    "print(\"Training: \" + str(len(train_data.imgs)))\n",
    "print(\"Validation: \" + str(len(val_data.imgs)))\n",
    "print(\"Test: \" + str(len(test_data.imgs)))"
   ]
  },
  {
   "cell_type": "code",
   "execution_count": 7,
   "id": "6656e944-a81a-45d9-8ffc-4c3cce0cfdf7",
   "metadata": {},
   "outputs": [],
   "source": [
    "batch = 16\n",
    "train_dataloader = DataLoader(train_data, batch_size=batch, shuffle=True)"
   ]
  },
  {
   "cell_type": "markdown",
   "id": "d9c6e604-2c2b-4960-a47a-06064f289315",
   "metadata": {},
   "source": [
    "## Model"
   ]
  },
  {
   "cell_type": "markdown",
   "id": "b449cd80-f79a-4f32-a8d3-5bfd3e3e3dc7",
   "metadata": {},
   "source": [
    "### Model instantiation"
   ]
  },
  {
   "cell_type": "code",
   "execution_count": 8,
   "id": "f62864d9-50e7-4260-a1b0-c360cc29d22f",
   "metadata": {},
   "outputs": [],
   "source": [
    "model_name = \"U-Net\""
   ]
  },
  {
   "cell_type": "code",
   "execution_count": 9,
   "id": "7f2baa14-6214-4bd1-92a2-4fb472580860",
   "metadata": {},
   "outputs": [],
   "source": [
    "net = UNet.Model().cuda()\n",
    "net.train()\n",
    "\n",
    "optimizer = torch.optim.AdamW(net.parameters(), lr = 0.01)\n",
    "scheduler = torch.optim.lr_scheduler.StepLR(optimizer, step_size=len(train_data), gamma=0.8)\n",
    "\n",
    "drop = torch.nn.Dropout(0.3).cuda()"
   ]
  },
  {
   "cell_type": "code",
   "execution_count": 10,
   "id": "c671ce98-0c90-41d9-ba65-7765785dcb44",
   "metadata": {},
   "outputs": [],
   "source": [
    "locacriterion = torch.nn.CrossEntropyLoss().cuda()\n",
    "recocriterion = torch.nn.MSELoss().cuda()"
   ]
  },
  {
   "cell_type": "code",
   "execution_count": 11,
   "id": "aa585fd2-5dc1-4fa8-9610-67a61d183254",
   "metadata": {},
   "outputs": [
    {
     "name": "stdout",
     "output_type": "stream",
     "text": [
      "Total parameters:  31037317\n"
     ]
    }
   ],
   "source": [
    "total_params = metrics.count_parameters(net)\n",
    "print(\"Total parameters: \", total_params)"
   ]
  },
  {
   "cell_type": "markdown",
   "id": "d939c99e-60ed-4fa5-8ae4-67d5fe4a85ad",
   "metadata": {},
   "source": [
    "## Training Pipeline"
   ]
  },
  {
   "cell_type": "markdown",
   "id": "f0c70da6-66b5-493c-af21-50d29ce18a81",
   "metadata": {},
   "source": [
    "### Train epochs"
   ]
  },
  {
   "cell_type": "code",
   "execution_count": 12,
   "id": "6f6b891d-1caa-4e1f-818b-27ab1c1a8e4a",
   "metadata": {},
   "outputs": [
    {
     "name": "stdout",
     "output_type": "stream",
     "text": [
      "epoch: 1\n"
     ]
    },
    {
     "name": "stderr",
     "output_type": "stream",
     "text": [
      "100%|█████████████████████████████████████████| 250/250 [04:34<00:00,  1.10s/it]\n"
     ]
    },
    {
     "name": "stdout",
     "output_type": "stream",
     "text": [
      "train loss mean: 0.6331681870780885\n",
      "computing dataset descriptors\n"
     ]
    },
    {
     "name": "stderr",
     "output_type": "stream",
     "text": [
      "100%|███████████████████████████████████████| 4000/4000 [01:23<00:00, 47.92it/s]\n"
     ]
    },
    {
     "name": "stdout",
     "output_type": "stream",
     "text": [
      "descriptors computed!\n",
      "computing dataset descriptors\n"
     ]
    },
    {
     "name": "stderr",
     "output_type": "stream",
     "text": [
      "100%|███████████████████████████████████████| 4000/4000 [01:23<00:00, 47.86it/s]\n"
     ]
    },
    {
     "name": "stdout",
     "output_type": "stream",
     "text": [
      "descriptors computed!\n",
      "computing metrics\n"
     ]
    },
    {
     "name": "stderr",
     "output_type": "stream",
     "text": [
      "100%|███████████████████████████████████████| 4000/4000 [03:04<00:00, 21.63it/s]\n"
     ]
    },
    {
     "name": "stdout",
     "output_type": "stream",
     "text": [
      "average localization error: 9.8369 meters\n",
      "average orientation error : 87.1116 degrees\n",
      "epoch: 2\n"
     ]
    },
    {
     "name": "stderr",
     "output_type": "stream",
     "text": [
      "  8%|███▎                                      | 20/250 [00:23<04:26,  1.16s/it]\n"
     ]
    },
    {
     "ename": "KeyboardInterrupt",
     "evalue": "",
     "output_type": "error",
     "traceback": [
      "\u001b[0;31m---------------------------------------------------------------------------\u001b[0m",
      "\u001b[0;31mKeyboardInterrupt\u001b[0m                         Traceback (most recent call last)",
      "Cell \u001b[0;32mIn[12], line 5\u001b[0m\n\u001b[1;32m      2\u001b[0m num_epochs \u001b[38;5;241m=\u001b[39m \u001b[38;5;241m12\u001b[39m\n\u001b[1;32m      4\u001b[0m start_train \u001b[38;5;241m=\u001b[39m time\u001b[38;5;241m.\u001b[39mtime()\n\u001b[0;32m----> 5\u001b[0m best_model_path \u001b[38;5;241m=\u001b[39m \u001b[43mtrainer\u001b[49m\u001b[38;5;241;43m.\u001b[39;49m\u001b[43mtrain\u001b[49m\u001b[43m(\u001b[49m\u001b[43mnum_epochs\u001b[49m\u001b[43m)\u001b[49m\n\u001b[1;32m      6\u001b[0m end_train \u001b[38;5;241m=\u001b[39m time\u001b[38;5;241m.\u001b[39mtime()\n\u001b[1;32m      8\u001b[0m training_time \u001b[38;5;241m=\u001b[39m end_train \u001b[38;5;241m-\u001b[39m start_train\n",
      "File \u001b[0;32m~/Desktop/Notebook_bsd/trainer.py:44\u001b[0m, in \u001b[0;36mTrainer.train\u001b[0;34m(self, num_epochs)\u001b[0m\n\u001b[1;32m     42\u001b[0m \u001b[38;5;28;01mfor\u001b[39;00m epoch \u001b[38;5;129;01min\u001b[39;00m \u001b[38;5;28mrange\u001b[39m(\u001b[38;5;241m1\u001b[39m, num_epochs \u001b[38;5;241m+\u001b[39m \u001b[38;5;241m1\u001b[39m):\n\u001b[1;32m     43\u001b[0m     \u001b[38;5;28mprint\u001b[39m(\u001b[38;5;124m\"\u001b[39m\u001b[38;5;124mepoch:\u001b[39m\u001b[38;5;124m\"\u001b[39m, epoch)\n\u001b[0;32m---> 44\u001b[0m     \u001b[38;5;28;43mself\u001b[39;49m\u001b[38;5;241;43m.\u001b[39;49m\u001b[43mtrain_epoch\u001b[49m\u001b[43m(\u001b[49m\u001b[43mepoch\u001b[49m\u001b[43m)\u001b[49m\n\u001b[1;32m     45\u001b[0m     \u001b[38;5;28mself\u001b[39m\u001b[38;5;241m.\u001b[39mvalidate(epoch)\n\u001b[1;32m     46\u001b[0m \u001b[38;5;28;01mreturn\u001b[39;00m \u001b[38;5;28mself\u001b[39m\u001b[38;5;241m.\u001b[39mbest_model_path\n",
      "File \u001b[0;32m~/Desktop/Notebook_bsd/trainer.py:78\u001b[0m, in \u001b[0;36mTrainer.train_epoch\u001b[0;34m(self, epoch)\u001b[0m\n\u001b[1;32m     76\u001b[0m     \u001b[38;5;28mself\u001b[39m\u001b[38;5;241m.\u001b[39moptimizer\u001b[38;5;241m.\u001b[39mstep()\n\u001b[1;32m     77\u001b[0m     \u001b[38;5;28mself\u001b[39m\u001b[38;5;241m.\u001b[39mscheduler\u001b[38;5;241m.\u001b[39mstep()\n\u001b[0;32m---> 78\u001b[0m     train_losses\u001b[38;5;241m.\u001b[39mappend(\u001b[43mloss\u001b[49m\u001b[38;5;241;43m.\u001b[39;49m\u001b[43mitem\u001b[49m\u001b[43m(\u001b[49m\u001b[43m)\u001b[49m)\n\u001b[1;32m     80\u001b[0m     torch\u001b[38;5;241m.\u001b[39mcuda\u001b[38;5;241m.\u001b[39mempty_cache()\n\u001b[1;32m     82\u001b[0m \u001b[38;5;28mprint\u001b[39m(\u001b[38;5;124m\"\u001b[39m\u001b[38;5;124mtrain loss mean:\u001b[39m\u001b[38;5;124m\"\u001b[39m, np\u001b[38;5;241m.\u001b[39mmean(train_losses))\n",
      "\u001b[0;31mKeyboardInterrupt\u001b[0m: "
     ]
    }
   ],
   "source": [
    "trainer = Trainer(writer, train_data, train_dataloader, val_data, net, optimizer, scheduler, drop, recocriterion, locacriterion)\n",
    "num_epochs = 12\n",
    "\n",
    "start_train = time.time()\n",
    "best_model_path = trainer.train(num_epochs)\n",
    "end_train = time.time()\n",
    "\n",
    "training_time = end_train - start_train\n",
    "print(\"Training time: \", training_time, \"seconds\")"
   ]
  },
  {
   "cell_type": "code",
   "execution_count": null,
   "id": "7f03f9c7-7b78-4e8f-a163-ed383e2f36f5",
   "metadata": {},
   "outputs": [],
   "source": [
    "inference_time_per_image = metrics.inference_time(net, train_dataloader)\n",
    "print(\"Inference time per image: \", inference_time_per_image, \"seconds\")"
   ]
  },
  {
   "cell_type": "code",
   "execution_count": null,
   "id": "3e533e4a-b514-4d0b-9f8e-297ed2a65220",
   "metadata": {
    "scrolled": true
   },
   "outputs": [],
   "source": [
    "metrics.get_descriptors(train_data, val_data, net)"
   ]
  },
  {
   "cell_type": "markdown",
   "id": "58d95019-2749-45dd-9c92-ae1936fdae5e",
   "metadata": {},
   "source": [
    "## Visualize Training results on Test data"
   ]
  },
  {
   "cell_type": "markdown",
   "id": "1d0c097b-d5c3-4363-9f31-5462c1b6bc8d",
   "metadata": {},
   "source": [
    "### Load the checkpoint model"
   ]
  },
  {
   "cell_type": "code",
   "execution_count": null,
   "id": "7d84d7f0-bb6f-4177-902e-1d4df246f673",
   "metadata": {},
   "outputs": [],
   "source": [
    "checkpoint_path = best_model_path\n",
    "print(\"Best model path: \", best_model_path)\n",
    "net = UNet.Model()\n",
    "states.load_state(net, checkpoint_path)\n",
    "net = net.cuda()\n",
    "net.eval();"
   ]
  },
  {
   "cell_type": "markdown",
   "id": "e45ab83f-5534-4298-a40f-c2adbebd3b43",
   "metadata": {},
   "source": [
    "### Compute the final descriptors of the training data"
   ]
  },
  {
   "cell_type": "markdown",
   "id": "87ffc299-0990-40f8-a7d7-e8acf7b81c41",
   "metadata": {},
   "source": [
    "### Query the database"
   ]
  },
  {
   "cell_type": "code",
   "execution_count": null,
   "id": "a374b2a3-1243-4923-b85b-8598e8ad746f",
   "metadata": {},
   "outputs": [],
   "source": [
    "train_data.apply_random_rot = False\n",
    "train_data.computeDescriptors(net)"
   ]
  },
  {
   "cell_type": "markdown",
   "id": "dd28beb6-fb04-494a-92f0-1fa2af1051b7",
   "metadata": {},
   "source": [
    "### Visualize query results: sonar images"
   ]
  },
  {
   "cell_type": "code",
   "execution_count": null,
   "id": "d25afa5d-5a43-4cd3-ae37-bf33f1919507",
   "metadata": {},
   "outputs": [],
   "source": [
    "import pickle\n",
    "\n",
    "with open(\"train_data.pickle\", \"wb\") as handle:\n",
    "    pickle.dump(train_data, handle)"
   ]
  },
  {
   "cell_type": "code",
   "execution_count": null,
   "id": "9fab71ff-2c10-4173-be3f-aea4b50cada5",
   "metadata": {},
   "outputs": [],
   "source": [
    "visualizer.analyze_feature_robustness(train_data, net)"
   ]
  },
  {
   "cell_type": "code",
   "execution_count": null,
   "id": "692b23d2-1534-47a4-85c8-d46e7f62ed04",
   "metadata": {},
   "outputs": [],
   "source": [
    "query_idx = random.randint(0, len(test_data))\n",
    "\n",
    "loca_error, orie_error = visualizer.process(query_idx, net, train_data, test_data, plot=True)\n",
    "print(f\"localization error: {loca_error:6.4f} meters\")\n",
    "print(f\"orientation error : {orie_error:6.4f} degrees\")"
   ]
  },
  {
   "cell_type": "code",
   "execution_count": null,
   "id": "11f3cefd-8f3b-49ea-b600-17c0f137a23d",
   "metadata": {},
   "outputs": [],
   "source": [
    "loca_errors, orie_errors = [], []\n",
    "\n",
    "for query_idx in tqdm(range(0, len(test_data))):\n",
    "    loca_error, orie_error = visualizer.process(query_idx, net, train_data, test_data, plot=False)\n",
    "    loca_errors.append(loca_error)\n",
    "    orie_errors.append(orie_error)\n",
    "\n",
    "avg_loca_error = np.array(loca_errors).mean()\n",
    "avg_orie_error = np.array(orie_errors).mean()\n",
    "\n",
    "print(f\"average localization error: {avg_loca_error:6.4f} meters\")\n",
    "print(f\"average orientation error : {avg_orie_error:6.4f} degrees\")\n",
    "\n",
    "ale_t = avg_loca_error\n",
    "aoe_t = avg_orie_error"
   ]
  },
  {
   "cell_type": "code",
   "execution_count": null,
   "id": "627bdf16-a606-40a8-8201-4033ca20d50c",
   "metadata": {},
   "outputs": [],
   "source": [
    "loca_errors = np.array(loca_errors)\n",
    "orie_errors = np.array(orie_errors)"
   ]
  },
  {
   "cell_type": "code",
   "execution_count": null,
   "id": "0c5419d9-02af-4e69-8bca-1efb62bf7134",
   "metadata": {},
   "outputs": [],
   "source": [
    "loca_errors.argmax()"
   ]
  },
  {
   "cell_type": "code",
   "execution_count": null,
   "id": "0e5deb63-db05-4ad5-80d4-c80b3cfabb56",
   "metadata": {},
   "outputs": [],
   "source": [
    "le = loca_errors[loca_errors<10]\n",
    "oe = orie_errors[orie_errors<10]\n",
    "print(le.mean())\n",
    "print(oe.mean())"
   ]
  },
  {
   "cell_type": "markdown",
   "id": "16b4c45c-96de-4087-86eb-83e31b6a109f",
   "metadata": {},
   "source": [
    "## Process real images"
   ]
  },
  {
   "cell_type": "code",
   "execution_count": null,
   "id": "4d6c82e8-f834-4302-bc3c-70657f07bf7a",
   "metadata": {},
   "outputs": [],
   "source": [
    "query_idx = random.randint(0, 600)\n",
    "train_data.apply_random_rot = True\n",
    "train_data.training = True\n",
    "print(\"query_idx:\", query_idx)\n",
    "visualizer.process_real(query_idx, net, train_data, real_data)"
   ]
  },
  {
   "cell_type": "markdown",
   "id": "49123674-c969-4e75-a4cc-3dde109d0a09",
   "metadata": {},
   "source": [
    "## Process ONLY real images"
   ]
  },
  {
   "cell_type": "code",
   "execution_count": null,
   "id": "95d59221-dc3d-4a6c-9faf-df955d26d923",
   "metadata": {},
   "outputs": [],
   "source": [
    "real_data_train = load_only_real_datasets.SonarDescriptorOnlyRealDataset()\n",
    "real_data_valid = load_only_real_datasets.SonarDescriptorOnlyRealDataset(real_data_train)"
   ]
  },
  {
   "cell_type": "code",
   "execution_count": null,
   "id": "57b99fcc-f90b-404b-8cc4-c4ab74a15450",
   "metadata": {},
   "outputs": [],
   "source": [
    "real_data_train.computeDescriptors(net)"
   ]
  },
  {
   "cell_type": "code",
   "execution_count": null,
   "id": "e454b3fa-c940-43a8-ae22-43b616323e3d",
   "metadata": {
    "scrolled": true
   },
   "outputs": [],
   "source": [
    "visualizer.visualize_real(train_data, real_data)"
   ]
  },
  {
   "cell_type": "code",
   "execution_count": null,
   "id": "69fb8f07-3f12-4323-931e-ae58b6157881",
   "metadata": {
    "scrolled": true
   },
   "outputs": [],
   "source": [
    "query_idx = random.randint(700, len(real_data_valid))\n",
    "loca_error, orie_error = visualizer.process_only_real(query_idx, net, real_data_train, real_data_valid, plot=True)\n",
    "print(f\"localization error: {loca_error:6.4f} meters\")\n",
    "print(f\"orientation error : {orie_error:6.4f} degrees\")"
   ]
  },
  {
   "cell_type": "code",
   "execution_count": null,
   "id": "739c8ccc-9f1c-431b-9c2c-eb786b0ad1c4",
   "metadata": {},
   "outputs": [],
   "source": [
    "loca_errors, orie_errors = [], []\n",
    "\n",
    "for query_idx in tqdm(range(0, len(real_data_valid))):\n",
    "    loca_error, orie_error = visualizer.process_only_real(query_idx, net, real_data_train, real_data_valid, plot=False)\n",
    "    loca_errors.append(loca_error)\n",
    "    orie_errors.append(orie_error)\n",
    "\n",
    "avg_loca_error = np.array(loca_errors).mean()\n",
    "avg_orie_error = np.abs(np.array(orie_errors)).mean()\n",
    "\n",
    "print(f\"average localization error: {avg_loca_error:6.4f} meters\")\n",
    "print(f\"average orientation error : {avg_orie_error:6.4f} degrees\")\n",
    "\n",
    "ale_r = avg_loca_error\n",
    "aoe_r = avg_orie_error"
   ]
  },
  {
   "cell_type": "code",
   "execution_count": null,
   "id": "4436b203-badb-4655-9b91-55b20aedd378",
   "metadata": {},
   "outputs": [],
   "source": [
    "avg_orie_error.min()"
   ]
  },
  {
   "cell_type": "markdown",
   "id": "11c948af-f25d-4bc2-888d-714ede6228ec",
   "metadata": {},
   "source": [
    "## Results"
   ]
  },
  {
   "cell_type": "code",
   "execution_count": null,
   "id": "e6cb2c01-9f41-4445-b73b-0ab265dee64a",
   "metadata": {},
   "outputs": [],
   "source": [
    "file_path = \"results.csv\"\n",
    "metrics.save_results(model_name, total_params, training_time, inference_time_per_image, ale_t, aoe_t, ale_r, aoe_r, file_path)\n",
    "\n",
    "print(f\"Model name: {model_name}\")\n",
    "print(f\"Total parameters: {total_params}\")\n",
    "print(f\"Training time: {training_time:6.4f} seconds\")\n",
    "print(f\"Inference time per image: {inference_time_per_image:6.4f} seconds\")\n",
    "print(f\"Average localization error in Test: {ale_t:6.4f} meters\")\n",
    "print(f\"Average orientation error in Test: {aoe_t:6.4f} degrees\")\n",
    "print(f\"Average localization error in Real: {ale_r:6.4f} meters\")\n",
    "print(f\"Average orientation error in Real: {aoe_r:6.4f} degrees\")"
   ]
  },
  {
   "cell_type": "code",
   "execution_count": null,
   "id": "e2c24aef-b3e3-4c48-b058-c85162deb344",
   "metadata": {},
   "outputs": [],
   "source": []
  }
 ],
 "metadata": {
  "kernelspec": {
   "display_name": "Python 3 (ipykernel)",
   "language": "python",
   "name": "python3"
  },
  "language_info": {
   "codemirror_mode": {
    "name": "ipython",
    "version": 3
   },
   "file_extension": ".py",
   "mimetype": "text/x-python",
   "name": "python",
   "nbconvert_exporter": "python",
   "pygments_lexer": "ipython3",
   "version": "3.10.12"
  }
 },
 "nbformat": 4,
 "nbformat_minor": 5
}
